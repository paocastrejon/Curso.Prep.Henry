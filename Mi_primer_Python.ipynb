{
  "nbformat": 4,
  "nbformat_minor": 0,
  "metadata": {
    "colab": {
      "provenance": [],
      "include_colab_link": true
    },
    "kernelspec": {
      "name": "python3",
      "display_name": "Python 3"
    },
    "language_info": {
      "name": "python"
    }
  },
  "cells": [
    {
      "cell_type": "markdown",
      "metadata": {
        "id": "view-in-github",
        "colab_type": "text"
      },
      "source": [
        "<a href=\"https://colab.research.google.com/github/paocastrejon/Curso.Prep.Henry/blob/master/Mi_primer_Python.ipynb\" target=\"_parent\"><img src=\"https://colab.research.google.com/assets/colab-badge.svg\" alt=\"Open In Colab\"/></a>"
      ]
    },
    {
      "cell_type": "markdown",
      "source": [
        "# **Mi primer Python**"
      ],
      "metadata": {
        "id": "jJWarv0A-m9x"
      }
    },
    {
      "cell_type": "code",
      "execution_count": 1,
      "metadata": {
        "id": "deZrFCmn-hQ8",
        "colab": {
          "base_uri": "https://localhost:8080/"
        },
        "outputId": "ff4c5df6-c66a-4918-b150-0426fec4ec46"
      },
      "outputs": [
        {
          "output_type": "stream",
          "name": "stdout",
          "text": [
            "Hola Mundo\n"
          ]
        }
      ],
      "source": [
        "print (\"Hola Mundo\")"
      ]
    },
    {
      "cell_type": "code",
      "source": [
        "print (type(\"Hola Mundo\"))\n"
      ],
      "metadata": {
        "colab": {
          "base_uri": "https://localhost:8080/"
        },
        "id": "kfrl9KtJhFDS",
        "outputId": "1375a24d-dcf4-4c53-cdf3-28c49f8132b4"
      },
      "execution_count": 2,
      "outputs": [
        {
          "output_type": "stream",
          "name": "stdout",
          "text": [
            "<class 'str'>\n"
          ]
        }
      ]
    },
    {
      "cell_type": "code",
      "source": [
        "x = 2\n",
        "print (x)\n",
        "print (type (x))"
      ],
      "metadata": {
        "colab": {
          "base_uri": "https://localhost:8080/"
        },
        "id": "SoNC2P0Tklb7",
        "outputId": "ba124831-0f0f-4447-fe90-098bd39db3f0"
      },
      "execution_count": 3,
      "outputs": [
        {
          "output_type": "stream",
          "name": "stdout",
          "text": [
            "2\n",
            "<class 'int'>\n"
          ]
        }
      ]
    },
    {
      "cell_type": "code",
      "source": [
        "y = 2.45\n",
        "print (\"tipo de dato:\",type(y),y)\n"
      ],
      "metadata": {
        "colab": {
          "base_uri": "https://localhost:8080/"
        },
        "id": "kFJL8U7YlVC-",
        "outputId": "ac8605a5-0f80-4db8-d2f5-8e3cea6d3484"
      },
      "execution_count": 6,
      "outputs": [
        {
          "output_type": "stream",
          "name": "stdout",
          "text": [
            "tipo de dato: <class 'float'> 2.45\n"
          ]
        }
      ]
    },
    {
      "cell_type": "code",
      "source": [
        "variable_temporal = \"hola\"\n",
        "print (variable_temporal)\n",
        "variable_temporal = \"adios\"\n",
        "print (variable_temporal)\n",
        "variable_temporal = \"¿como estas?\"\n",
        "print(variable_temporal)"
      ],
      "metadata": {
        "colab": {
          "base_uri": "https://localhost:8080/"
        },
        "id": "8p6sYnl6mS6z",
        "outputId": "b71c2b67-7322-4d27-f359-299122704bfd"
      },
      "execution_count": 8,
      "outputs": [
        {
          "output_type": "stream",
          "name": "stdout",
          "text": [
            "hola\n",
            "adios\n",
            "¿como estas?\n"
          ]
        }
      ]
    }
  ]
}